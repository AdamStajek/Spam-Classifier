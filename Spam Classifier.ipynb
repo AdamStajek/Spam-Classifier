{
 "cells": [
  {
   "cell_type": "markdown",
   "id": "b13e5b6b-37fc-4b8e-afef-cab3aa6d80b3",
   "metadata": {},
   "source": [
    "## Spam Classifier   \n",
    "#### In this notebook, I am going to prepare a complete machine learning pipeline, from data downloading to model comparison and tuning.  \n",
    "#### Enjoy your read!"
   ]
  },
  {
   "cell_type": "code",
   "execution_count": 1,
   "id": "22910b7f-bab0-4612-9fe2-445359171727",
   "metadata": {},
   "outputs": [],
   "source": [
    "import tarfile\n",
    "import email.parser\n",
    "import email.policy\n",
    "import os\n",
    "import re\n",
    "import warnings\n",
    "import pandas as pd\n",
    "import matplotlib.pyplot as plt\n",
    "from collections import Counter\n",
    "from urllib.request import urlretrieve\n",
    "from html2text import html2text\n",
    "from sklearn.model_selection import train_test_split\n",
    "from sklearn.model_selection import cross_val_predict\n",
    "from sklearn.model_selection import RandomizedSearchCV\n",
    "from sklearn.metrics import accuracy_score\n",
    "from sklearn.metrics import precision_recall_curve\n",
    "from sklearn.metrics import confusion_matrix\n",
    "from sklearn.metrics import roc_curve\n",
    "from sklearn.metrics import f1_score\n",
    "from sklearn.metrics import roc_auc_score\n",
    "from sklearn.ensemble import GradientBoostingClassifier\n",
    "from sklearn.ensemble import RandomForestClassifier\n",
    "from sklearn.neighbors import KNeighborsClassifier\n",
    "from sklearn.linear_model import SGDClassifier\n",
    "\n",
    "warnings.simplefilter(action='ignore', category=pd.errors.PerformanceWarning)"
   ]
  },
  {
   "cell_type": "markdown",
   "id": "3dce6202-bbb9-43b4-9268-5eec7359c48e",
   "metadata": {},
   "source": [
    "## 1. Data processing"
   ]
  },
  {
   "cell_type": "markdown",
   "id": "3301b9aa-b218-4034-bd3a-211dc8f7a1e0",
   "metadata": {},
   "source": [
    "Let's start with some data engineering work. The pipeline will start by downloading files and extracting them as email message objects."
   ]
  },
  {
   "cell_type": "code",
   "execution_count": null,
   "id": "acc41bce-e0d1-4a9c-a186-db4aaa06e5b9",
   "metadata": {},
   "outputs": [],
   "source": [
    "url = 'https://spamassassin.apache.org/old/publiccorpus/'\n",
    "files = ('20030228_easy_ham.tar.bz2', '20030228_spam.tar.bz2')\n",
    "for filename in files:\n",
    "    urlretrieve(os.path.join(url, filename), filename)\n",
    "    tar = tarfile.open(filename)\n",
    "    x = tar.extractall()\n",
    "    tar.close()"
   ]
  },
  {
   "cell_type": "code",
   "execution_count": 2,
   "id": "f1e98af3-e635-4348-91f4-b7c20ed8495d",
   "metadata": {},
   "outputs": [],
   "source": [
    "def extract_emails(dirname):\n",
    "    emails = []\n",
    "    for filename in os.listdir(dirname):\n",
    "        file = os.path.join(dirname, filename)\n",
    "        if os.path.isfile(file):\n",
    "            with open(file, \"rb\") as f:\n",
    "                emails.append(email.parser.BytesParser(policy=email.policy.default).parse(f))\n",
    "    return emails"
   ]
  },
  {
   "cell_type": "code",
   "execution_count": 3,
   "id": "413460bc-0071-4a79-9f57-e3ba6ae43a72",
   "metadata": {},
   "outputs": [],
   "source": [
    "spam = extract_emails('spam')\n",
    "ham = extract_emails('easy_ham')"
   ]
  },
  {
   "cell_type": "markdown",
   "id": "9ab25c0c-84cd-4c76-a078-7e731d78317a",
   "metadata": {},
   "source": [
    "Take a look at an example of parsed email:"
   ]
  },
  {
   "cell_type": "code",
   "execution_count": 4,
   "id": "ea79cebc-45b8-4348-a4f6-9ef928300e5a",
   "metadata": {},
   "outputs": [
    {
     "name": "stdout",
     "output_type": "stream",
     "text": [
      "Return-Path: <12a1mailbot1@web.de>\n",
      "Delivered-To: zzzz@localhost.spamassassin.taint.org\n",
      "Received: from localhost (localhost [127.0.0.1])\n",
      "\tby phobos.labs.spamassassin.taint.org (Postfix) with ESMTP id 136B943C32\n",
      "\tfor <zzzz@localhost>; Thu, 22 Aug 2002 08:17:21 -0400 (EDT)\n",
      "Received: from mail.webnote.net [193.120.211.219]\n",
      "\tby localhost with POP3 (fetchmail-5.9.0)\n",
      "\tfor zzzz@localhost (single-drop); Thu, 22 Aug 2002 13:17:21 +0100 (IST)\n",
      "Received: from dd_it7 ([210.97.77.167])\n",
      "\tby webnote.net (8.9.3/8.9.3) with ESMTP id NAA04623\n",
      "\tfor <zzzz@spamassassin.taint.org>; Thu, 22 Aug 2002 13:09:41 +0100\n",
      "From: 12a1mailbot1@web.de\n",
      "Received: from r-smtp.korea.com - 203.122.2.197 by dd_it7  with Microsoft\n",
      " SMTPSVC(5.5.1775.675.6);\t Sat, 24 Aug 2002 09:42:10 +0900\n",
      "To: <dcek1a1@netsgo.com>\n",
      "Subject: Life Insurance - Why Pay More?\n",
      "Date: Wed, 21 Aug 2002 20:31:57 -1600\n",
      "MIME-Version: 1.0\n",
      "Message-ID: <0103c1042001882DD_IT7@dd_it7>\n",
      "Content-Type: text/html; charset=\"iso-8859-1\"\n",
      "Content-Transfer-Encoding: quoted-printable\n",
      "\n",
      "<!DOCTYPE HTML PUBLIC \"-//W3C//DTD HTML 4.0 Transitional//EN\">\n",
      "<HTML><HEAD>\n",
      "<META content=3D\"text/html; charset=3Dwindows-1252\" http-equiv=3DContent-T=\n",
      "ype>\n",
      "<META content=3D\"MSHTML 5.00.2314.1000\" name=3DGENERATOR></HEAD>\n",
      "<BODY><!-- Inserted by Calypso -->\n",
      "<TABLE border=3D0 cellPadding=3D0 cellSpacing=3D2 id=3D_CalyPrintHeader_ r=\n",
      "ules=3Dnone \n",
      "style=3D\"COLOR: black; DISPLAY: none\" width=3D\"100%\">\n",
      "  <TBODY>\n",
      "  <TR>\n",
      "    <TD colSpan=3D3>\n",
      "      <HR color=3Dblack noShade SIZE=3D1>\n",
      "    </TD></TR></TD></TR>\n",
      "  <TR>\n",
      "    <TD colSpan=3D3>\n",
      "      <HR color=3Dblack noShade SIZE=3D1>\n",
      "    </TD></TR></TBODY></TABLE><!-- End Calypso --><!-- Inserted by Calypso=\n",
      " --><FONT \n",
      "color=3D#000000 face=3DVERDANA,ARIAL,HELVETICA size=3D-2><BR></FONT></TD><=\n",
      "/TR></TABLE><!-- End Calypso --><FONT color=3D#ff0000 \n",
      "face=3D\"Copperplate Gothic Bold\" size=3D5 PTSIZE=3D\"10\">\n",
      "<CENTER>Save up to 70% on Life Insurance.</CENTER></FONT><FONT color=3D#ff=\n",
      "0000 \n",
      "face=3D\"Copperplate Gothic Bold\" size=3D5 PTSIZE=3D\"10\">\n",
      "<CENTER>Why Spend More Than You Have To?\n",
      "<CENTER><FONT color=3D#ff0000 face=3D\"Copperplate Gothic Bold\" size=3D5 PT=\n",
      "SIZE=3D\"10\">\n",
      "<CENTER>Life Quote Savings\n",
      "<CENTER>\n",
      "<P align=3Dleft></P>\n",
      "<P align=3Dleft></P></FONT></U></I></B><BR></FONT></U></B></U></I>\n",
      "<P></P>\n",
      "<CENTER>\n",
      "<TABLE border=3D0 borderColor=3D#111111 cellPadding=3D0 cellSpacing=3D0 wi=\n",
      "dth=3D650>\n",
      "  <TBODY></TBODY></TABLE>\n",
      "<TABLE border=3D0 borderColor=3D#111111 cellPadding=3D5 cellSpacing=3D0 wi=\n",
      "dth=3D650>\n",
      "  <TBODY>\n",
      "  <TR>\n",
      "    <TD colSpan=3D2 width=3D\"35%\"><B><FONT face=3DVerdana size=3D4>Ensurin=\n",
      "g your \n",
      "      family's financial security is very important. Life Quote Savings ma=\n",
      "kes \n",
      "      buying life insurance simple and affordable. We Provide FREE Access =\n",
      "to The \n",
      "      Very Best Companies and The Lowest Rates.</FONT></B></TD></TR>\n",
      "  <TR>\n",
      "    <TD align=3Dmiddle vAlign=3Dtop width=3D\"18%\">\n",
      "      <TABLE borderColor=3D#111111 width=3D\"100%\">\n",
      "        <TBODY>\n",
      "        <TR>\n",
      "          <TD style=3D\"PADDING-LEFT: 5px; PADDING-RIGHT: 5px\" width=3D\"100=\n",
      "%\"><FONT \n",
      "            face=3DVerdana size=3D4><B>Life Quote Savings</B> is FAST, EAS=\n",
      "Y and \n",
      "            SAVES you money! Let us help you get started with the best val=\n",
      "ues in \n",
      "            the country on new coverage. You can SAVE hundreds or even tho=\n",
      "usands \n",
      "            of dollars by requesting a FREE quote from Lifequote Savings. =\n",
      "Our \n",
      "            service will take you less than 5 minutes to complete. Shop an=\n",
      "d \n",
      "            compare. SAVE up to 70% on all types of Life insurance! \n",
      "</FONT></TD></TR>\n",
      "        <TR><BR><BR>\n",
      "          <TD height=3D50 style=3D\"PADDING-LEFT: 5px; PADDING-RIGHT: 5px\" \n",
      "          width=3D\"100%\">\n",
      "            <P align=3Dcenter><B><FONT face=3DVerdana size=3D5><A \n",
      "            href=3D\"http://website.e365.cc/savequote/\">Click Here For Your=\n",
      " \n",
      "            Free Quote!</A></FONT></B></P></TD>\n",
      "          <P><FONT face=3DVerdana size=3D4><STRONG>\n",
      "          <CENTER>Protecting your family is the best investment you'll eve=\n",
      "r \n",
      "          make!<BR></B></TD></TR>\n",
      "        <TR><BR><BR></STRONG></FONT></TD></TR></TD></TR>\n",
      "        <TR></TR></TBODY></TABLE>\n",
      "      <P align=3Dleft><FONT face=3D\"Arial, Helvetica, sans-serif\" size=3D2=\n",
      "></FONT></P>\n",
      "      <P></P>\n",
      "      <CENTER><BR><BR><BR>\n",
      "      <P></P>\n",
      "      <P align=3Dleft><BR></B><BR><BR><BR><BR></P>\n",
      "      <P align=3Dcenter><BR></P>\n",
      "      <P align=3Dleft><BR></B><BR><BR></FONT>If you are in receipt of this=\n",
      " email \n",
      "      in error and/or wish to be removed from our list, <A \n",
      "      href=3D\"mailto:coins@btamail.net.cn\">PLEASE CLICK HERE</A> AND TYPE =\n",
      "REMOVE. If you \n",
      "      reside in any state which prohibits e-mail solicitations for insuran=\n",
      "ce, \n",
      "      please disregard this \n",
      "      email.<BR></FONT><BR><BR><BR><BR><BR><BR><BR><BR><BR><BR><BR><BR><BR=\n",
      "><BR><BR><BR></FONT></P></CENTER></CENTER></TR></TBODY></TABLE></CENTER></=\n",
      "CENTER></CENTER></CENTER></CENTER></BODY></HTML>\n",
      "\n",
      "\n",
      "\n",
      "\n"
     ]
    }
   ],
   "source": [
    "print(spam[0])"
   ]
  },
  {
   "cell_type": "markdown",
   "id": "32880828-a1f6-4080-8cfc-5f153c7302a1",
   "metadata": {},
   "source": [
    "We have 501 spam and 2501 ham (non-spam) emails."
   ]
  },
  {
   "cell_type": "code",
   "execution_count": 5,
   "id": "267b3973-d874-40bd-a70c-f074406e2b02",
   "metadata": {},
   "outputs": [
    {
     "name": "stdout",
     "output_type": "stream",
     "text": [
      "number of spam emails: 501\n",
      "number of ham emails: 2501\n"
     ]
    }
   ],
   "source": [
    "print(f\"number of spam emails: {len(spam)}\")\n",
    "print(f\"number of ham emails: {len(ham)}\")"
   ]
  },
  {
   "cell_type": "markdown",
   "id": "b91cf39b-dcb1-42cf-927b-d5072549f3fc",
   "metadata": {},
   "source": [
    "It's necessary to convert this raw metadata to what's interests us the most - content written by the sender."
   ]
  },
  {
   "cell_type": "code",
   "execution_count": 6,
   "id": "668e249f-99b9-4744-9e96-e038c82098b9",
   "metadata": {},
   "outputs": [],
   "source": [
    "def convert_to_text(email_):\n",
    "    content = \"\"\n",
    "    if isinstance(email_.get_payload(), list):\n",
    "        for payload in email_.get_payload():\n",
    "            content += convert_to_text(payload)\n",
    "        return content\n",
    "    else:\n",
    "        try: #to avoid encoding errors\n",
    "            return html2text(email_.get_content())\n",
    "        except:\n",
    "            return \"\"\n",
    "\n",
    "spam = list(map(convert_to_text, spam))\n",
    "ham = list(map(convert_to_text, ham))"
   ]
  },
  {
   "cell_type": "markdown",
   "id": "e6e38161-975f-4e5f-a33e-ec2c930ddd4c",
   "metadata": {},
   "source": [
    "I decided to get rid of every character in emails except of some predefined set consisting of alphanumeric chars, \n",
    "'@', '.', '/', ':', and ' '. I replaced them with white space, then changed every multiple white spaces to one white space and stripped all emails. I also removed newline characters from the string, as they aren't useful for analysis.\n"
   ]
  },
  {
   "cell_type": "code",
   "execution_count": 7,
   "id": "5fffb285-b3b5-4e1b-9f2d-c893db31daa7",
   "metadata": {},
   "outputs": [],
   "source": [
    "def filter_email(email_):\n",
    "    converted_email = re.sub('\\n', ' ', email_)\n",
    "    converted_email = re.sub('[^0-9a-zA-Z@./:]', ' ', email_)\n",
    "    converted_email = re.sub(' +', ' ', converted_email)\n",
    "    converted_email = converted_email.strip().lower()\n",
    "    return converted_email\n",
    "\n",
    "spam = list(map(filter_email, spam))\n",
    "ham = list(map(filter_email, ham))"
   ]
  },
  {
   "cell_type": "markdown",
   "id": "e0780c85-97b6-4b4a-8c49-0e84758859de",
   "metadata": {},
   "source": [
    "Now, example of an email looks like this:"
   ]
  },
  {
   "cell_type": "code",
   "execution_count": 31,
   "id": "138aa64f-4e74-40f0-9d15-6c70c761e9ce",
   "metadata": {},
   "outputs": [
    {
     "name": "stdout",
     "output_type": "stream",
     "text": [
      "save up to 70 on life insurance. why spend more than you have to life quote savings ensuring your family s financial security is very important. life quote savings makes buying life insurance simple and affordable. we provide free access to the very best companies and the lowest rates. life quote savings is fast easy and saves you money let us help you get started with the best values in the country on new coverage. you can save hundreds or even thousands of dollars by requesting a free quote from lifequote savings. our service will take you less than 5 minutes to complete. shop and compare. save up to 70 on all types of life insurance click here for your free quote http://website.e365.cc/savequote/ protecting your family is the best investment you ll ever make if you are in receipt of this email in error and/or wish to be removed from our list please click here mailto:coins@btamail.net.cn and type remove. if you reside in any state which prohibits e mail solicitations for insurance please disregard this email.\n"
     ]
    }
   ],
   "source": [
    "print(spam[0])"
   ]
  },
  {
   "cell_type": "markdown",
   "id": "376b1599-0bf5-4cae-96c6-8d2d74d5db27",
   "metadata": {},
   "source": [
    "Exception handling during email conversion may have resulted in some empty emails in our dataset. Fortunately, there are only 5 emails like this, so we can just erase them from the dataset"
   ]
  },
  {
   "cell_type": "code",
   "execution_count": 8,
   "id": "e2cfd47c-8383-4372-86a9-3bb77b0e7457",
   "metadata": {
    "editable": true,
    "slideshow": {
     "slide_type": ""
    },
    "tags": []
   },
   "outputs": [
    {
     "name": "stdout",
     "output_type": "stream",
     "text": [
      "spam: 5, ham: 0\n"
     ]
    }
   ],
   "source": [
    "def count_empty_emails(emails):\n",
    "    count = 0\n",
    "    for i, email_ in enumerate(emails):\n",
    "        if email_ == \"\":\n",
    "           count += 1\n",
    "    return count\n",
    "\n",
    "empty_spam = count_empty_emails(spam)\n",
    "empty_ham = count_empty_emails(ham)\n",
    "print(f\"spam: {empty_spam}, ham: {empty_ham}\")\n",
    "\n",
    "spam = [email for email in spam if email] #remove empty strings\n",
    "            \n",
    "            \n",
    "    "
   ]
  },
  {
   "cell_type": "markdown",
   "id": "d8963a47-8402-4568-b4c5-1a6fa0278e6b",
   "metadata": {},
   "source": [
    "We're now entering the final phase of the processing of the dataset. Our next step involves identifying the most frequently occurring words in the spam emails. Following that, we'll construct a labeled dataframe where each column corresponds to a specific word, and the value in each cell indicates the frequency of that word in a particular email. This structured approach will enable us to effectively analyze the dataset and extract valuable insights."
   ]
  },
  {
   "cell_type": "code",
   "execution_count": 9,
   "id": "e3c0fcae-9f42-4616-8be4-88a7a234994f",
   "metadata": {},
   "outputs": [],
   "source": [
    "def find_words_occurrence_number(emails):\n",
    "    words = Counter()\n",
    "    for email_ in emails:\n",
    "        words.update(email_.split())\n",
    "    return words\n",
    "    \n",
    "def filter_to_most_occurring(words):\n",
    "    return {w:k for (w,k) in words.items() if k > 100 and len(w) > 3}\n",
    "             \n",
    "spam_words = find_words_occurrence_number(spam)\n",
    "spam_words = filter_to_most_occurring(spam_words)\n",
    "             \n"
   ]
  },
  {
   "cell_type": "markdown",
   "id": "aacc381a-fd6f-4da1-b709-537b3b9bef97",
   "metadata": {},
   "source": [
    "Class labels:  \n",
    "1 - spam  \n",
    "0 - ham  "
   ]
  },
  {
   "cell_type": "code",
   "execution_count": 10,
   "id": "411ca498-3e67-4d1d-89f5-c9228791d19a",
   "metadata": {
    "scrolled": true
   },
   "outputs": [],
   "source": [
    "def find_match_count(word: str, pattern: str) -> int:\n",
    "    return len(re.findall(pattern, word.lower()))\n",
    "\n",
    "spam_df = pd.DataFrame({'email_': spam})\n",
    "for col in spam_words:\n",
    "    spam_df[col] = spam_df['email_'].apply(find_match_count, pattern=col)\n",
    "spam_df['label'] = 1\n",
    "spam_df = spam_df.drop('email_', axis=1)"
   ]
  },
  {
   "cell_type": "code",
   "execution_count": 11,
   "id": "df24ff78-6c20-4fcc-86d9-0e47a3e07e1e",
   "metadata": {},
   "outputs": [],
   "source": [
    "ham_df = pd.DataFrame({'email_': ham}) \n",
    "for col in spam_words:\n",
    "    ham_df[col] = ham_df['email_'].apply(lambda x: x.count(col))\n",
    "ham_df['label'] = 0\n",
    "ham_df = ham_df.drop('email_', axis=1)"
   ]
  },
  {
   "cell_type": "markdown",
   "id": "77555e72-1cb3-4144-87ca-0777f15f06be",
   "metadata": {},
   "source": [
    "Ultimately, we concats our spam and ham datasets and shuffle the new dataset."
   ]
  },
  {
   "cell_type": "code",
   "execution_count": 12,
   "id": "11c373c4-6999-4ae6-8e57-abb4420614c1",
   "metadata": {},
   "outputs": [],
   "source": [
    "df = pd.concat([spam_df, ham_df], ignore_index=True)\n",
    "df = df.sample(frac=1).reset_index(drop=True)"
   ]
  },
  {
   "cell_type": "markdown",
   "id": "83f3d753-3805-44b6-9205-c88a46f1f9fc",
   "metadata": {},
   "source": [
    "So, this is the final dataset. It consists of 2997 rows, each coresponding to one email, and 140 columns, each coresponding to one of the most occurring words in spam emails. The numbers are occurrences of these words in specific emails."
   ]
  },
  {
   "cell_type": "code",
   "execution_count": 13,
   "id": "4e1c5752-e069-4ba1-a09d-abb5f26d0855",
   "metadata": {
    "scrolled": true
   },
   "outputs": [
    {
     "data": {
      "text/html": [
       "<div>\n",
       "<style scoped>\n",
       "    .dataframe tbody tr th:only-of-type {\n",
       "        vertical-align: middle;\n",
       "    }\n",
       "\n",
       "    .dataframe tbody tr th {\n",
       "        vertical-align: top;\n",
       "    }\n",
       "\n",
       "    .dataframe thead th {\n",
       "        text-align: right;\n",
       "    }\n",
       "</style>\n",
       "<table border=\"1\" class=\"dataframe\">\n",
       "  <thead>\n",
       "    <tr style=\"text-align: right;\">\n",
       "      <th></th>\n",
       "      <th>save</th>\n",
       "      <th>life</th>\n",
       "      <th>more</th>\n",
       "      <th>than</th>\n",
       "      <th>have</th>\n",
       "      <th>your</th>\n",
       "      <th>financial</th>\n",
       "      <th>very</th>\n",
       "      <th>insurance</th>\n",
       "      <th>simple</th>\n",
       "      <th>...</th>\n",
       "      <th>mails</th>\n",
       "      <th>well</th>\n",
       "      <th>before</th>\n",
       "      <th>after</th>\n",
       "      <th>orders</th>\n",
       "      <th>income</th>\n",
       "      <th>guide</th>\n",
       "      <th>enenkio</th>\n",
       "      <th>grants</th>\n",
       "      <th>label</th>\n",
       "    </tr>\n",
       "  </thead>\n",
       "  <tbody>\n",
       "    <tr>\n",
       "      <th>0</th>\n",
       "      <td>0</td>\n",
       "      <td>0</td>\n",
       "      <td>1</td>\n",
       "      <td>0</td>\n",
       "      <td>0</td>\n",
       "      <td>0</td>\n",
       "      <td>0</td>\n",
       "      <td>0</td>\n",
       "      <td>0</td>\n",
       "      <td>0</td>\n",
       "      <td>...</td>\n",
       "      <td>0</td>\n",
       "      <td>0</td>\n",
       "      <td>0</td>\n",
       "      <td>0</td>\n",
       "      <td>0</td>\n",
       "      <td>0</td>\n",
       "      <td>1</td>\n",
       "      <td>0</td>\n",
       "      <td>1</td>\n",
       "      <td>0</td>\n",
       "    </tr>\n",
       "    <tr>\n",
       "      <th>1</th>\n",
       "      <td>0</td>\n",
       "      <td>0</td>\n",
       "      <td>0</td>\n",
       "      <td>0</td>\n",
       "      <td>1</td>\n",
       "      <td>0</td>\n",
       "      <td>0</td>\n",
       "      <td>2</td>\n",
       "      <td>0</td>\n",
       "      <td>0</td>\n",
       "      <td>...</td>\n",
       "      <td>0</td>\n",
       "      <td>0</td>\n",
       "      <td>0</td>\n",
       "      <td>0</td>\n",
       "      <td>0</td>\n",
       "      <td>0</td>\n",
       "      <td>0</td>\n",
       "      <td>0</td>\n",
       "      <td>0</td>\n",
       "      <td>0</td>\n",
       "    </tr>\n",
       "    <tr>\n",
       "      <th>2</th>\n",
       "      <td>0</td>\n",
       "      <td>6</td>\n",
       "      <td>0</td>\n",
       "      <td>0</td>\n",
       "      <td>0</td>\n",
       "      <td>0</td>\n",
       "      <td>0</td>\n",
       "      <td>0</td>\n",
       "      <td>0</td>\n",
       "      <td>0</td>\n",
       "      <td>...</td>\n",
       "      <td>0</td>\n",
       "      <td>0</td>\n",
       "      <td>0</td>\n",
       "      <td>0</td>\n",
       "      <td>0</td>\n",
       "      <td>0</td>\n",
       "      <td>0</td>\n",
       "      <td>0</td>\n",
       "      <td>0</td>\n",
       "      <td>1</td>\n",
       "    </tr>\n",
       "    <tr>\n",
       "      <th>3</th>\n",
       "      <td>0</td>\n",
       "      <td>0</td>\n",
       "      <td>0</td>\n",
       "      <td>0</td>\n",
       "      <td>0</td>\n",
       "      <td>1</td>\n",
       "      <td>0</td>\n",
       "      <td>0</td>\n",
       "      <td>0</td>\n",
       "      <td>0</td>\n",
       "      <td>...</td>\n",
       "      <td>0</td>\n",
       "      <td>1</td>\n",
       "      <td>0</td>\n",
       "      <td>0</td>\n",
       "      <td>0</td>\n",
       "      <td>0</td>\n",
       "      <td>0</td>\n",
       "      <td>0</td>\n",
       "      <td>0</td>\n",
       "      <td>0</td>\n",
       "    </tr>\n",
       "    <tr>\n",
       "      <th>4</th>\n",
       "      <td>0</td>\n",
       "      <td>0</td>\n",
       "      <td>0</td>\n",
       "      <td>0</td>\n",
       "      <td>0</td>\n",
       "      <td>0</td>\n",
       "      <td>0</td>\n",
       "      <td>0</td>\n",
       "      <td>0</td>\n",
       "      <td>0</td>\n",
       "      <td>...</td>\n",
       "      <td>0</td>\n",
       "      <td>1</td>\n",
       "      <td>0</td>\n",
       "      <td>0</td>\n",
       "      <td>0</td>\n",
       "      <td>0</td>\n",
       "      <td>0</td>\n",
       "      <td>0</td>\n",
       "      <td>0</td>\n",
       "      <td>0</td>\n",
       "    </tr>\n",
       "    <tr>\n",
       "      <th>...</th>\n",
       "      <td>...</td>\n",
       "      <td>...</td>\n",
       "      <td>...</td>\n",
       "      <td>...</td>\n",
       "      <td>...</td>\n",
       "      <td>...</td>\n",
       "      <td>...</td>\n",
       "      <td>...</td>\n",
       "      <td>...</td>\n",
       "      <td>...</td>\n",
       "      <td>...</td>\n",
       "      <td>...</td>\n",
       "      <td>...</td>\n",
       "      <td>...</td>\n",
       "      <td>...</td>\n",
       "      <td>...</td>\n",
       "      <td>...</td>\n",
       "      <td>...</td>\n",
       "      <td>...</td>\n",
       "      <td>...</td>\n",
       "      <td>...</td>\n",
       "    </tr>\n",
       "    <tr>\n",
       "      <th>2992</th>\n",
       "      <td>0</td>\n",
       "      <td>0</td>\n",
       "      <td>0</td>\n",
       "      <td>0</td>\n",
       "      <td>3</td>\n",
       "      <td>0</td>\n",
       "      <td>0</td>\n",
       "      <td>0</td>\n",
       "      <td>0</td>\n",
       "      <td>0</td>\n",
       "      <td>...</td>\n",
       "      <td>0</td>\n",
       "      <td>0</td>\n",
       "      <td>0</td>\n",
       "      <td>0</td>\n",
       "      <td>0</td>\n",
       "      <td>0</td>\n",
       "      <td>0</td>\n",
       "      <td>0</td>\n",
       "      <td>0</td>\n",
       "      <td>0</td>\n",
       "    </tr>\n",
       "    <tr>\n",
       "      <th>2993</th>\n",
       "      <td>1</td>\n",
       "      <td>0</td>\n",
       "      <td>0</td>\n",
       "      <td>1</td>\n",
       "      <td>1</td>\n",
       "      <td>0</td>\n",
       "      <td>0</td>\n",
       "      <td>0</td>\n",
       "      <td>0</td>\n",
       "      <td>0</td>\n",
       "      <td>...</td>\n",
       "      <td>0</td>\n",
       "      <td>0</td>\n",
       "      <td>0</td>\n",
       "      <td>1</td>\n",
       "      <td>0</td>\n",
       "      <td>0</td>\n",
       "      <td>0</td>\n",
       "      <td>0</td>\n",
       "      <td>0</td>\n",
       "      <td>0</td>\n",
       "    </tr>\n",
       "    <tr>\n",
       "      <th>2994</th>\n",
       "      <td>0</td>\n",
       "      <td>3</td>\n",
       "      <td>0</td>\n",
       "      <td>1</td>\n",
       "      <td>6</td>\n",
       "      <td>3</td>\n",
       "      <td>0</td>\n",
       "      <td>2</td>\n",
       "      <td>0</td>\n",
       "      <td>0</td>\n",
       "      <td>...</td>\n",
       "      <td>0</td>\n",
       "      <td>0</td>\n",
       "      <td>0</td>\n",
       "      <td>2</td>\n",
       "      <td>0</td>\n",
       "      <td>0</td>\n",
       "      <td>1</td>\n",
       "      <td>0</td>\n",
       "      <td>0</td>\n",
       "      <td>0</td>\n",
       "    </tr>\n",
       "    <tr>\n",
       "      <th>2995</th>\n",
       "      <td>0</td>\n",
       "      <td>0</td>\n",
       "      <td>1</td>\n",
       "      <td>0</td>\n",
       "      <td>1</td>\n",
       "      <td>0</td>\n",
       "      <td>0</td>\n",
       "      <td>0</td>\n",
       "      <td>0</td>\n",
       "      <td>0</td>\n",
       "      <td>...</td>\n",
       "      <td>0</td>\n",
       "      <td>0</td>\n",
       "      <td>0</td>\n",
       "      <td>0</td>\n",
       "      <td>0</td>\n",
       "      <td>0</td>\n",
       "      <td>0</td>\n",
       "      <td>0</td>\n",
       "      <td>0</td>\n",
       "      <td>0</td>\n",
       "    </tr>\n",
       "    <tr>\n",
       "      <th>2996</th>\n",
       "      <td>0</td>\n",
       "      <td>0</td>\n",
       "      <td>0</td>\n",
       "      <td>0</td>\n",
       "      <td>0</td>\n",
       "      <td>0</td>\n",
       "      <td>0</td>\n",
       "      <td>0</td>\n",
       "      <td>0</td>\n",
       "      <td>0</td>\n",
       "      <td>...</td>\n",
       "      <td>0</td>\n",
       "      <td>0</td>\n",
       "      <td>0</td>\n",
       "      <td>0</td>\n",
       "      <td>0</td>\n",
       "      <td>0</td>\n",
       "      <td>0</td>\n",
       "      <td>0</td>\n",
       "      <td>0</td>\n",
       "      <td>0</td>\n",
       "    </tr>\n",
       "  </tbody>\n",
       "</table>\n",
       "<p>2997 rows × 140 columns</p>\n",
       "</div>"
      ],
      "text/plain": [
       "      save  life  more  than  have  your  financial  very  insurance  simple  \\\n",
       "0        0     0     1     0     0     0          0     0          0       0   \n",
       "1        0     0     0     0     1     0          0     2          0       0   \n",
       "2        0     6     0     0     0     0          0     0          0       0   \n",
       "3        0     0     0     0     0     1          0     0          0       0   \n",
       "4        0     0     0     0     0     0          0     0          0       0   \n",
       "...    ...   ...   ...   ...   ...   ...        ...   ...        ...     ...   \n",
       "2992     0     0     0     0     3     0          0     0          0       0   \n",
       "2993     1     0     0     1     1     0          0     0          0       0   \n",
       "2994     0     3     0     1     6     3          0     2          0       0   \n",
       "2995     0     0     1     0     1     0          0     0          0       0   \n",
       "2996     0     0     0     0     0     0          0     0          0       0   \n",
       "\n",
       "      ...  mails  well  before  after  orders  income  guide  enenkio  grants  \\\n",
       "0     ...      0     0       0      0       0       0      1        0       1   \n",
       "1     ...      0     0       0      0       0       0      0        0       0   \n",
       "2     ...      0     0       0      0       0       0      0        0       0   \n",
       "3     ...      0     1       0      0       0       0      0        0       0   \n",
       "4     ...      0     1       0      0       0       0      0        0       0   \n",
       "...   ...    ...   ...     ...    ...     ...     ...    ...      ...     ...   \n",
       "2992  ...      0     0       0      0       0       0      0        0       0   \n",
       "2993  ...      0     0       0      1       0       0      0        0       0   \n",
       "2994  ...      0     0       0      2       0       0      1        0       0   \n",
       "2995  ...      0     0       0      0       0       0      0        0       0   \n",
       "2996  ...      0     0       0      0       0       0      0        0       0   \n",
       "\n",
       "      label  \n",
       "0         0  \n",
       "1         0  \n",
       "2         1  \n",
       "3         0  \n",
       "4         0  \n",
       "...     ...  \n",
       "2992      0  \n",
       "2993      0  \n",
       "2994      0  \n",
       "2995      0  \n",
       "2996      0  \n",
       "\n",
       "[2997 rows x 140 columns]"
      ]
     },
     "execution_count": 13,
     "metadata": {},
     "output_type": "execute_result"
    }
   ],
   "source": [
    "df"
   ]
  },
  {
   "cell_type": "markdown",
   "id": "13235414-e0f5-4fe4-aae6-f51f120c6836",
   "metadata": {},
   "source": [
    "## 2. ML Models comparison"
   ]
  },
  {
   "cell_type": "markdown",
   "id": "5fa68d60-065c-4c06-9149-a5fa43a108bb",
   "metadata": {},
   "source": [
    "It's finally time to start analytical work. We will try to maximize the accuracy of our predictions by looking for the best among four different classifiers: stochastic gradient, K-nearest neighbors, random forests and gradient boosting as I think of them as the most suitable for this task.\n"
   ]
  },
  {
   "cell_type": "markdown",
   "id": "02c0d8db-711f-41b7-a6d6-827abdc3ea64",
   "metadata": {},
   "source": [
    "Firstly, we will divide our dataset into test and train data."
   ]
  },
  {
   "cell_type": "code",
   "execution_count": 14,
   "id": "0d6f87f2-ee98-439f-8f0d-4c1ee7af9c56",
   "metadata": {},
   "outputs": [],
   "source": [
    "y = df[\"label\"]\n",
    "X = df.drop(\"label\", axis=1)"
   ]
  },
  {
   "cell_type": "code",
   "execution_count": 15,
   "id": "245ee6f2-93af-4eda-9351-83b809171ffc",
   "metadata": {},
   "outputs": [],
   "source": [
    "X_train, X_test, y_train, y_test = train_test_split(X, y)"
   ]
  },
  {
   "cell_type": "markdown",
   "id": "2adf64d1-098c-4c38-9fd7-506998966e81",
   "metadata": {},
   "source": [
    "The classifiers will be compared according to four distinct metrics: accuracy, spam detecting accuracy, F1 score and ROC AUC score. We have around 2250 samples in training set and around 750 samples in test set. Unfortunately, the spam/ham ratio is 1/5 which may cause some problems, so that we will carefully look not only at the general model accuracy, but also spam accuracy, which is a ratio of detected spam to all spam emails."
   ]
  },
  {
   "cell_type": "code",
   "execution_count": 16,
   "id": "bee112b8-826f-4921-b62d-780637750bd1",
   "metadata": {},
   "outputs": [],
   "source": [
    "def spam_ham_accuracy(confusion_matrix):\n",
    "    spam_accuracy = confusion_matrix[0, 0] / (confusion_matrix[0, 1] + confusion_matrix[0, 0])\n",
    "    ham_accuracy = confusion_matrix[1, 1] / (confusion_matrix[1, 1] + confusion_matrix[1, 0])\n",
    "    return spam_accuracy, ham_accuracy"
   ]
  },
  {
   "cell_type": "code",
   "execution_count": 17,
   "id": "f98dfd75-6306-46e8-891e-1cb37d2c77e9",
   "metadata": {},
   "outputs": [],
   "source": [
    "def evaluate_model(model):\n",
    "    y_predict = model.predict(X_test)\n",
    "    conf_matrix = confusion_matrix(y_test, y_predict, labels=(1,0))\n",
    "    print(model.__class__.__name__)\n",
    "    print()\n",
    "    print(\"confusion_matrix:\")\n",
    "    print(conf_matrix)\n",
    "    accuracy = accuracy_score(y_test, y_predict)\n",
    "    print(f\"general accuracy: {accuracy}\")\n",
    "    spam_accuracy, ham_accuracy = spam_ham_accuracy(conf_matrix)\n",
    "    print(f\"spam_accuracy: {spam_accuracy}\")\n",
    "    f1 = f1_score(y_test, y_predict)\n",
    "    print(f\"f1_score: {f1}\")\n",
    "    roc_auc = roc_auc_score(y_test, y_predict)\n",
    "    print(f\"roc_auc_score: {roc_auc}\")\n",
    "    metrics[model.__class__.__name__] = [accuracy, spam_accuracy, f1, roc_auc]\n",
    "    return model, y_predict"
   ]
  },
  {
   "cell_type": "markdown",
   "id": "ff35b030-5fab-4970-8f96-ca01a35ef0ee",
   "metadata": {},
   "source": [
    "You can look at the values of metrics of every classifier individually or at the comparison below the training code."
   ]
  },
  {
   "cell_type": "code",
   "execution_count": 18,
   "id": "c79d0dff-0df7-4e09-8be4-a20f7668c75a",
   "metadata": {},
   "outputs": [],
   "source": [
    "metrics = {}"
   ]
  },
  {
   "cell_type": "code",
   "execution_count": 19,
   "id": "91a86568-71d2-4cae-b790-b31514e408cb",
   "metadata": {},
   "outputs": [
    {
     "name": "stdout",
     "output_type": "stream",
     "text": [
      "SGDClassifier\n",
      "confusion_matrix: \n",
      "\n",
      "[[114   5]\n",
      " [  3 628]]\n",
      "general accuracy: 0.9893333333333333\n",
      "spam_accuracy: 0.957983193277311\n",
      "f1_score: 0.9661016949152542\n",
      "roc_auc_score: 0.9766144175578315\n"
     ]
    }
   ],
   "source": [
    "sgd = SGDClassifier(loss='log_loss')\n",
    "sgd.fit(X_train, y_train)\n",
    "sgd_scores = cross_val_predict(sgd, X_train, y_train, cv=3, method='predict_proba')\n",
    "sgd, sgd_predict = evaluate_model(sgd)"
   ]
  },
  {
   "cell_type": "code",
   "execution_count": 20,
   "id": "45e3e179-7a05-4079-bfa7-a99d4a2e2007",
   "metadata": {},
   "outputs": [
    {
     "name": "stdout",
     "output_type": "stream",
     "text": [
      "KNeighborsClassifier\n",
      "confusion_matrix: \n",
      "\n",
      "[[105  14]\n",
      " [  5 626]]\n",
      "general accuracy: 0.9746666666666667\n",
      "spam_accuracy: 0.8823529411764706\n",
      "f1_score: 0.9170305676855895\n",
      "roc_auc_score: 0.9372145054535285\n"
     ]
    }
   ],
   "source": [
    "knn = KNeighborsClassifier()\n",
    "knn.fit(X_train, y_train)\n",
    "knn_scores = cross_val_predict(sgd, X_train, y_train, cv=3, method='predict_proba')\n",
    "knn, knn_predict= evaluate_model(knn)"
   ]
  },
  {
   "cell_type": "code",
   "execution_count": 21,
   "id": "90106556-9ec3-40f6-a57c-84a25273b80f",
   "metadata": {},
   "outputs": [
    {
     "name": "stdout",
     "output_type": "stream",
     "text": [
      "GradientBoostingClassifier\n",
      "confusion_matrix: \n",
      "\n",
      "[[114   5]\n",
      " [  2 629]]\n",
      "general accuracy: 0.9906666666666667\n",
      "spam_accuracy: 0.957983193277311\n",
      "f1_score: 0.9702127659574468\n",
      "roc_auc_score: 0.9774068105847727\n"
     ]
    }
   ],
   "source": [
    "gbc = GradientBoostingClassifier()\n",
    "gbc.fit(X_train, y_train)\n",
    "gbc_scores = cross_val_predict(sgd, X_train, y_train, cv=3, method='predict_proba')\n",
    "gbc, gbc_predict = evaluate_model(gbc)"
   ]
  },
  {
   "cell_type": "code",
   "execution_count": 22,
   "id": "8bf69ec3-ed9e-4f23-922e-f1e40d91a76a",
   "metadata": {},
   "outputs": [
    {
     "name": "stdout",
     "output_type": "stream",
     "text": [
      "RandomForestClassifier\n",
      "confusion_matrix: \n",
      "\n",
      "[[116   3]\n",
      " [  2 629]]\n",
      "general accuracy: 0.9933333333333333\n",
      "spam_accuracy: 0.9747899159663865\n",
      "f1_score: 0.9789029535864979\n",
      "roc_auc_score: 0.9858101719293105\n"
     ]
    }
   ],
   "source": [
    "rfc = RandomForestClassifier()\n",
    "rfc.fit(X_train, y_train)\n",
    "rfc_scores = cross_val_predict(sgd, X_train, y_train, cv=3, method='predict_proba')\n",
    "rfc, rfc_predict = evaluate_model(rfc)"
   ]
  },
  {
   "cell_type": "markdown",
   "id": "e82e4558-57b0-4a7b-bf1d-312c64e22f12",
   "metadata": {},
   "source": [
    "Comparison of the performance of our models:"
   ]
  },
  {
   "cell_type": "code",
   "execution_count": 32,
   "id": "482f2f96-3e4d-4291-8d5a-02880fdd6040",
   "metadata": {},
   "outputs": [
    {
     "data": {
      "text/html": [
       "<div>\n",
       "<style scoped>\n",
       "    .dataframe tbody tr th:only-of-type {\n",
       "        vertical-align: middle;\n",
       "    }\n",
       "\n",
       "    .dataframe tbody tr th {\n",
       "        vertical-align: top;\n",
       "    }\n",
       "\n",
       "    .dataframe thead th {\n",
       "        text-align: right;\n",
       "    }\n",
       "</style>\n",
       "<table border=\"1\" class=\"dataframe\">\n",
       "  <thead>\n",
       "    <tr style=\"text-align: right;\">\n",
       "      <th></th>\n",
       "      <th>SGDClassifier</th>\n",
       "      <th>KNeighborsClassifier</th>\n",
       "      <th>GradientBoostingClassifier</th>\n",
       "      <th>RandomForestClassifier</th>\n",
       "      <th>TunedRandomForest</th>\n",
       "    </tr>\n",
       "  </thead>\n",
       "  <tbody>\n",
       "    <tr>\n",
       "      <th>accuracy</th>\n",
       "      <td>0.989333</td>\n",
       "      <td>0.974667</td>\n",
       "      <td>0.990667</td>\n",
       "      <td>0.993333</td>\n",
       "      <td>0.994667</td>\n",
       "    </tr>\n",
       "    <tr>\n",
       "      <th>spam_accuracy</th>\n",
       "      <td>0.957983</td>\n",
       "      <td>0.882353</td>\n",
       "      <td>0.957983</td>\n",
       "      <td>0.974790</td>\n",
       "      <td>0.983193</td>\n",
       "    </tr>\n",
       "    <tr>\n",
       "      <th>F1 score</th>\n",
       "      <td>0.966102</td>\n",
       "      <td>0.917031</td>\n",
       "      <td>0.970213</td>\n",
       "      <td>0.978903</td>\n",
       "      <td>0.983193</td>\n",
       "    </tr>\n",
       "    <tr>\n",
       "      <th>ROC AUC score</th>\n",
       "      <td>0.976614</td>\n",
       "      <td>0.937215</td>\n",
       "      <td>0.977407</td>\n",
       "      <td>0.985810</td>\n",
       "      <td>0.990012</td>\n",
       "    </tr>\n",
       "  </tbody>\n",
       "</table>\n",
       "</div>"
      ],
      "text/plain": [
       "               SGDClassifier  KNeighborsClassifier  \\\n",
       "accuracy            0.989333              0.974667   \n",
       "spam_accuracy       0.957983              0.882353   \n",
       "F1 score            0.966102              0.917031   \n",
       "ROC AUC score       0.976614              0.937215   \n",
       "\n",
       "               GradientBoostingClassifier  RandomForestClassifier  \\\n",
       "accuracy                         0.990667                0.993333   \n",
       "spam_accuracy                    0.957983                0.974790   \n",
       "F1 score                         0.970213                0.978903   \n",
       "ROC AUC score                    0.977407                0.985810   \n",
       "\n",
       "               TunedRandomForest  \n",
       "accuracy                0.994667  \n",
       "spam_accuracy           0.983193  \n",
       "F1 score                0.983193  \n",
       "ROC AUC score           0.990012  "
      ]
     },
     "execution_count": 32,
     "metadata": {},
     "output_type": "execute_result"
    }
   ],
   "source": [
    "metrics = pd.DataFrame(metrics, index=['accuracy', 'spam_accuracy', 'F1 score', 'ROC AUC score'])\n",
    "metrics"
   ]
  },
  {
   "cell_type": "markdown",
   "id": "6abf068a-c863-4f33-8e45-ede6821fdbc5",
   "metadata": {},
   "source": [
    "Here is also comparison of the ROC Curve of every classifier:"
   ]
  },
  {
   "cell_type": "code",
   "execution_count": 23,
   "id": "dc6e716e-b608-4a71-9421-2d796f1f27a5",
   "metadata": {},
   "outputs": [
    {
     "data": {
      "image/png": "[encoded data removed]",
      "text/plain": [
       "<Figure size 640x480 with 1 Axes>"
      ]
     },
     "metadata": {},
     "output_type": "display_data"
    }
   ],
   "source": [
    "def plot_roc_curve(y_scores, name):\n",
    "  fpr, tpr, thresholds = roc_curve(y_train, y_scores)\n",
    "  plt.title('ROC Curve')\n",
    "  plt.plot(fpr, tpr, linewidth=2, label=name)\n",
    "  plt.xlabel('false positive rate')\n",
    "  plt.ylabel('true positive rate')\n",
    "\n",
    "plot_roc_curve(knn_scores[:, 1], 'KNeighbors')\n",
    "plot_roc_curve(gbc_scores[:, 1], 'SGD')\n",
    "plot_roc_curve(sgd_scores[:, 1], 'Gradient Boosting')\n",
    "plot_roc_curve(rfc_scores[:, 1], 'Random Forests')\n",
    "plt.legend()\n",
    "plt.show()"
   ]
  },
  {
   "cell_type": "markdown",
   "id": "47824907-9d84-47eb-86a9-acfdd751cd26",
   "metadata": {},
   "source": [
    "If you like visualizations more than raw numbers - you can draw your conclusions basing on the plot:"
   ]
  },
  {
   "cell_type": "code",
   "execution_count": 25,
   "id": "61d4aea5-5691-4467-bb63-dd12e0e4c644",
   "metadata": {},
   "outputs": [
    {
     "data": {
      "image/png": "[encoded data removed]",
      "text/plain": [
       "<Figure size 640x480 with 1 Axes>"
      ]
     },
     "metadata": {},
     "output_type": "display_data"
    }
   ],
   "source": [
    "def plot_models():\n",
    "    metrics.plot(kind='barh')\n",
    "    plt.title(\"The comparison of model evaluation metrics\")\n",
    "    plt.xlim(0.7, 1.3)\n",
    "    plt.show()\n",
    "plot_models()"
   ]
  },
  {
   "cell_type": "markdown",
   "id": "7b485bcb-16f9-41a0-99a6-2239002be2fb",
   "metadata": {},
   "source": [
    "To sum up, it's not so easy to say which classifier performs the best in this specified task. In fact, if you run this notebook few times, your results may differ a bit after every try. "
   ]
  },
  {
   "cell_type": "markdown",
   "id": "909ad8a2-dc5a-422e-b9ad-3817c8a22f79",
   "metadata": {},
   "source": [
    "What we can conclude, the KNeighborsClassifier works really bad, compared to three other classifiers. Either Gradient Boosting, SGD and Random Forest Classifier detects around 92-96% percent of spam emails, which I believe to be decent performance. The choice between one of these tree doesn't seem to make a real difference."
   ]
  },
  {
   "cell_type": "markdown",
   "id": "4bb21330-fddd-4ded-a0fd-40dfc1648528",
   "metadata": {},
   "source": [
    "## 3. Model tuning"
   ]
  },
  {
   "cell_type": "markdown",
   "id": "70919d4f-728e-424e-b3d9-963fc7c63422",
   "metadata": {},
   "source": [
    "The analysis could end here, but we will make the last try to improve the accuracy of our spam detector. Random forest is commonly known as a model which may be significantly improved by parameter tuning. Grid search would work for ages with this number of parameters, so the randomized search seems to be the best for this problem, with the iteration limit set to 100."
   ]
  },
  {
   "cell_type": "code",
   "execution_count": null,
   "id": "3170896f-09dd-42d6-b2f5-13bdbca2691c",
   "metadata": {},
   "outputs": [],
   "source": [
    "def tune_RF():\n",
    "    model = RandomForestClassifier()\n",
    "    parameters = {'bootstrap': [True, False],\n",
    "                  'max_depth': [10, 20, 30, 40, 50, 60, 70, 80, 90, 100, None],\n",
    "                  'max_features': ['auto', 'sqrt'],\n",
    "                  'min_samples_leaf': [1, 2, 4],\n",
    "                  'min_samples_split': [2, 5, 10],\n",
    "                  'n_estimators': [200, 400, 600, 800, 1000, 1200, 1400, 1600, 1800, 2000]}\n",
    "    model = RandomizedSearchCV(estimator=model, param_distributions=parameters,\n",
    "        n_iter=100, cv=3, n_jobs=-1, verbose=2)\n",
    "    model.fit(X_train, y_train)\n",
    "    return model"
   ]
  },
  {
   "cell_type": "code",
   "execution_count": 27,
   "id": "33c4996e-2855-4a48-bba3-948bc71f58ba",
   "metadata": {},
   "outputs": [
    {
     "name": "stdout",
     "output_type": "stream",
     "text": [
      "Fitting 3 folds for each of 100 candidates, totalling 300 fits\n"
     ]
    }
   ],
   "source": [
    "model = tune_RF()"
   ]
  },
  {
   "cell_type": "markdown",
   "id": "3a4322ea-8f44-4d75-9944-12abd02eb861",
   "metadata": {},
   "source": [
    "As we can see below, randomized search performed wonderfully in this case, improving the performance of our model to over 98% spam detection accuracy! It seems to be an outstanding result."
   ]
  },
  {
   "cell_type": "code",
   "execution_count": 28,
   "id": "c4d7fff7-48e7-41bf-af8a-a4d0ffde3e74",
   "metadata": {},
   "outputs": [
    {
     "name": "stdout",
     "output_type": "stream",
     "text": [
      "RandomizedSearchCV\n",
      "confusion_matrix: \n",
      "\n",
      "[[117   2]\n",
      " [  2 629]]\n",
      "general accuracy: 0.9946666666666667\n",
      "spam_accuracy: 0.9831932773109243\n",
      "f1_score: 0.9831932773109243\n",
      "roc_auc_score: 0.9900118526015794\n"
     ]
    }
   ],
   "source": [
    "tuned_rf, tuned_rf_predict = evaluate_model(model)"
   ]
  },
  {
   "cell_type": "markdown",
   "id": "9277150c-fb8f-49b0-90c7-4dd1c3d3fa66",
   "metadata": {},
   "source": [
    "Below you can look at the best, found by randomized search algorithm, random forest parameters. "
   ]
  },
  {
   "cell_type": "code",
   "execution_count": 29,
   "id": "5c0a8ebd-8e1d-4546-abeb-029a51e45783",
   "metadata": {},
   "outputs": [
    {
     "data": {
      "text/plain": [
       "{'n_estimators': 2000,\n",
       " 'min_samples_split': 2,\n",
       " 'min_samples_leaf': 1,\n",
       " 'max_features': 'sqrt',\n",
       " 'max_depth': 90,\n",
       " 'bootstrap': False}"
      ]
     },
     "execution_count": 29,
     "metadata": {},
     "output_type": "execute_result"
    }
   ],
   "source": [
    "model.best_params_"
   ]
  },
  {
   "cell_type": "markdown",
   "id": "28aac31f-7631-48fa-9cb2-eed59b43eeba",
   "metadata": {},
   "source": [
    "## 4. Summary"
   ]
  },
  {
   "cell_type": "markdown",
   "id": "976f4e9e-7563-4498-8836-0072832ed59c",
   "metadata": {},
   "source": [
    "I also extended the plot of model's performance to include the tuned random forest:"
   ]
  },
  {
   "cell_type": "code",
   "execution_count": 30,
   "id": "e0fe8f61-6c1c-4ed5-9da2-22e172810988",
   "metadata": {},
   "outputs": [
    {
     "data": {
      "image/png": "[encoded data removed]",
      "text/plain": [
       "<Figure size 640x480 with 1 Axes>"
      ]
     },
     "metadata": {},
     "output_type": "display_data"
    }
   ],
   "source": [
    "metrics = metrics.rename({\"RandomizedSearchCV\": \"TunedRandomForest\"}, axis=1)\n",
    "plot_models()"
   ]
  },
  {
   "cell_type": "markdown",
   "id": "61949b7b-3ece-49bf-8ea9-47a35528449f",
   "metadata": {},
   "source": [
    "In conclusion, we've developed machine learning models capable of identifying spam emails with an accuracy ranging from 92% to 98%. Determining the superior classifier among SGD, Gradient Boosting, and Random Forest is challenging, as they all exhibit strong performance and yield comparable metric values. However, random forest model tuning resulted in visible increase of performance and it seems to work the best among compared classifiers. Worth emphasizing, KNearestNeighbors surely looks like really poor model for spam classification."
   ]
  },
  {
   "cell_type": "markdown",
   "id": "6317b98f-1e7d-434c-ab42-eedce3e40a89",
   "metadata": {},
   "source": [
    "I really appreciate your time spent reviewing this notebook. Thank you!"
   ]
  }
 ],
 "metadata": {
  "kernelspec": {
   "display_name": "Python 3 (ipykernel)",
   "language": "python",
   "name": "python3"
  },
  "language_info": {
   "codemirror_mode": {
    "name": "ipython",
    "version": 3
   },
   "file_extension": ".py",
   "mimetype": "text/x-python",
   "name": "python",
   "nbconvert_exporter": "python",
   "pygments_lexer": "ipython3",
   "version": "3.11.7"
  }
 },
 "nbformat": 4,
 "nbformat_minor": 5
}
